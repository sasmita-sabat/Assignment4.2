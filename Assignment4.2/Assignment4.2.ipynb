{
 "cells": [
  {
   "cell_type": "code",
   "execution_count": 10,
   "metadata": {},
   "outputs": [
    {
     "name": "stdout",
     "output_type": "stream",
     "text": [
      "Enter the list of words: sasmita,sabat\n"
     ]
    },
    {
     "data": {
      "text/plain": [
       "[7, 5]"
      ]
     },
     "execution_count": 10,
     "metadata": {},
     "output_type": "execute_result"
    }
   ],
   "source": [
    "#program using function concept that maps list of words into a list of integers \n",
    "#representing the lengths of the corresponding words.\n",
    "  \n",
    "def maplist_to_int(l):\n",
    "    templist=[]\n",
    "    for word in l:\n",
    "        templist.append(len(word))\n",
    "    return templist\n",
    "  \n",
    "l=input(\"Enter the list of words: \")\n",
    "y=maplist_to_int(l.split(','))\n",
    "y\n"
   ]
  },
  {
   "cell_type": "code",
   "execution_count": 64,
   "metadata": {},
   "outputs": [
    {
     "name": "stdout",
     "output_type": "stream",
     "text": [
      "Enter a char to check if its vowel or consonant ad\n",
      "Enter a string of length 1 a character a\n",
      "0\n",
      "true\n"
     ]
    }
   ],
   "source": [
    "#To return true for vowel and false for others\n",
    "def vowel(s):\n",
    "    l=['a','e','i','o','u']\n",
    "    \n",
    "    for c in l:        \n",
    "        temp=s.find(c)\n",
    "        print(temp)\n",
    "        if(temp==0):\n",
    "            return 'true'\n",
    "        else:\n",
    "            flag='false'\n",
    "    return flag            \n",
    "        \n",
    "        \n",
    "x=input(\"Enter a char to check if its vowel or consonant \")\n",
    "if(len(x)>1):\n",
    "    x=input(\"Enter a string of length 1 a character \")\n",
    "    print(vowel(x))\n"
   ]
  }
 ],
 "metadata": {
  "kernelspec": {
   "display_name": "Python 3",
   "language": "python",
   "name": "python3"
  }
 },
 "nbformat": 4,
 "nbformat_minor": 2
}
